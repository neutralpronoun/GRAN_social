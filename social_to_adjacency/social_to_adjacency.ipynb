{
 "cells": [
  {
   "cell_type": "code",
   "execution_count": 1,
   "metadata": {},
   "outputs": [
    {
     "name": "stdout",
     "output_type": "stream",
     "text": [
      "['sampling_test.ipynb', 'large_twitch_edges.csv', 'social.txt', 'musae_facebook_edges.csv', 'social_to_adjacency.ipynb', 'social_graph_labels.txt', '.DS_Store', '.ipynb_checkpoints', 'social_node_labels.txt', 'artist_edges.csv', 'social_graph_indicator.txt', 'social_A.txt']\n"
     ]
    }
   ],
   "source": [
    "import pandas as pd\n",
    "import numpy as np\n",
    "import networkx as nx\n",
    "import os\n",
    "from tqdm import tqdm\n",
    "\n",
    "print(os.listdir())\n",
    "import matplotlib.pyplot as plt"
   ]
  },
  {
   "cell_type": "code",
   "execution_count": 2,
   "metadata": {},
   "outputs": [
    {
     "name": "stdout",
     "output_type": "stream",
     "text": [
      "(171002, 2)\n"
     ]
    }
   ],
   "source": [
    "social_data = pd.read_csv(\"musae_facebook_edges.csv\")\n",
    "print(social_data.shape)\n",
    "np.savetxt(r'social_A.txt', social_data.values, fmt='%d', delimiter=\",\\t\")"
   ]
  },
  {
   "cell_type": "code",
   "execution_count": 3,
   "metadata": {},
   "outputs": [
    {
     "name": "stderr",
     "output_type": "stream",
     "text": [
      "100%|██████████| 171002/171002 [00:11<00:00, 14409.88it/s]\n"
     ]
    }
   ],
   "source": [
    "G = nx.Graph()\n",
    "for i in tqdm(range(social_data.shape[0])):\n",
    "    G.add_edge(social_data.iloc[i, 0], social_data.iloc[i,1])\n",
    "G = nx.convert_node_labels_to_integers(G)"
   ]
  },
  {
   "cell_type": "code",
   "execution_count": 5,
   "metadata": {},
   "outputs": [],
   "source": [
    "from littleballoffur import ForestFireSampler, MetropolisHastingsRandomWalkSampler, RandomWalkSampler, DiffusionSampler\n",
    "print(social_data.shape)\n",
    "n_nodes = np.unique(social_data.values).shape[0]\n",
    "print(n_nodes)\n",
    "n_graphs = 200\n",
    "\n",
    "graph_ind_array = np.zeros(n_nodes)\n",
    "n_per_graph = 800#int(n_nodes / n_graphs)\n",
    "\n",
    "print(n_per_graph)\n",
    "\n",
    "total_n = n_per_graph * n_graphs\n",
    "\n",
    "print(total_n)\n",
    "graph_ind_array = np.zeros(total_n)\n",
    "\n",
    "\n",
    "#number_of_nodes = int(0.5*graph.number_of_nodes())\n",
    "\n",
    "\n",
    "for i in tqdm(range(n_graphs)):\n",
    "    \n",
    "    offset_index = i * n_per_graph\n",
    "    sampler = ForestFireSampler(number_of_nodes = n_per_graph,#np.random.randint(, n_per_graph),\n",
    "                               seed = np.random.randint(1, 1e6))\n",
    "    new_graph = sampler.sample(G)\n",
    "    \n",
    "    # print(len(list(new_graph.nodes())))\n",
    "    \n",
    "    new_graph = nx.convert_node_labels_to_integers(new_graph, first_label=offset_index)\n",
    "    \n",
    "    graph_ind_array[offset_index:(i+1) * n_per_graph] = i+1\n",
    "    \n",
    "    nodes = list(new_graph.nodes())\n",
    "    \n",
    "    if i ==0:\n",
    "        graph_adj = np.array(new_graph.edges())\n",
    "        graph_ind_array = np.array(np.full(len(nodes), i+1))\n",
    "    else:\n",
    "        graph_adj = np.append(graph_adj, np.array(new_graph.edges()), axis = 0)\n",
    "        graph_ind_array = np.append(graph_ind_array, np.array(np.full(len(nodes), i+1)))\n",
    "    \n",
    "    if i % 25 == 0:\n",
    "        plt.figure(figsize = (8,8))\n",
    "        \n",
    "        pos = nx.spring_layout(\n",
    "          new_graph, k=0.1, iterations=100)\n",
    "        \n",
    "        \n",
    "        nx.draw_networkx_nodes(\n",
    "          new_graph,\n",
    "          pos,\n",
    "          node_size=25,\n",
    "          node_color='#336699',\n",
    "          alpha=1,\n",
    "          linewidths=0.2)#,\n",
    "          # font_size=1.5)\n",
    "        nx.draw_networkx_edges(new_graph, pos, alpha=0.3, width=0.5)\n",
    "\n",
    "        plt.savefig(f\"graph_example{i}.jpg\")\n",
    "        plt.show()\n",
    "\n",
    "print(graph_adj.shape)\n",
    "print(graph_ind_array.shape)\n",
    "\n",
    "total_n = graph_ind_array.shape[0]"
   ]
  },
  {
   "cell_type": "code",
   "execution_count": 6,
   "metadata": {},
   "outputs": [
    {
     "name": "stdout",
     "output_type": "stream",
     "text": [
      "(160000,)\n",
      "(160000,)\n"
     ]
    }
   ],
   "source": [
    "data_dir =        \"/home/alex/Documents/Project_CDT/GRAN_social/data/\"\n",
    "\n",
    "# for file in os.listdir(data_dir):\n",
    "#     print(file)\n",
    "#     if \"DUMMY\" in file:\n",
    "#         shutil.rmtree(f\"{data_dir}{file}\")\n",
    "\n",
    "np.savetxt(f'{data_dir}SOCIAL/social_A.txt', graph_adj, fmt='%d', delimiter=\",\\t\")\n",
    "np.savetxt(f'{data_dir}SOCIAL/social_graph_indicator.txt',graph_ind_array, fmt=\"%d\")\n",
    "\n",
    "np.savetxt(f'{data_dir}SOCIAL/social_node_labels.txt', np.arange(1, total_n+1), fmt = \"%d\")\n",
    "print(np.arange(1, total_n+1).shape)\n",
    "\n",
    "np.savetxt(f'{data_dir}SOCIAL/social_graph_labels.txt', np.ones(total_n), fmt = \"%d\")\n",
    "print(np.ones(total_n).shape)\n",
    "\n",
    "\n",
    "        \n",
    "# np.savetxt(r'social_A.txt', graph_adj, fmt='%d', delimiter=\",\\t\")\n",
    "# np.savetxt(r'social_graph_indicator.txt',graph_ind_array, fmt=\"%d\")\n",
    "\n",
    "# np.savetxt(r'social_node_labels.txt', np.arange(1, total_n+1), fmt = \"%d\")\n",
    "# print(np.arange(1, total_n+1).shape)\n",
    "\n",
    "# np.savetxt(r'social_graph_labels.txt', np.ones(total_n), fmt = \"%d\")\n",
    "# print(np.ones(total_n).shape)"
   ]
  },
  {
   "cell_type": "code",
   "execution_count": null,
   "metadata": {},
   "outputs": [],
   "source": [
    "# print(social_data.shape)\n",
    "# n_nodes = np.unique(social_data.values).shape[0]\n",
    "# print(n_nodes)\n",
    "# n_graphs = 100\n",
    "\n",
    "# graph_ind_array = np.zeros(n_nodes)\n",
    "# n_per_graph = int(n_nodes / n_graphs)\n",
    "\n",
    "# print(n_per_graph)\n",
    "\n",
    "# G_ids = []\n",
    "\n",
    "# for i in range(n_graphs):\n",
    "    \n",
    "#     G2 = nx.Graph()\n",
    "\n",
    "#     for node in G.nodes():\n",
    "        \n",
    "#         neighbours = list(G.neighbors(node))\n"
   ]
  },
  {
   "cell_type": "code",
   "execution_count": null,
   "metadata": {},
   "outputs": [],
   "source": [
    "\n",
    "\n",
    "# # for i in range(n_graphs):\n",
    "    \n",
    "# #     graph_ind_array[i*n_per_graph : (i+1)*n_per_graph] = i+1\n",
    "    \n",
    "# #     if i == n_graphs - 1:\n",
    "# #         graph_ind_array[(i+1)*n_per_graph:] = i+1\n",
    "\n",
    "# np.savetxt(r'social_graph_indicator.txt',graph_ind_array, fmt=\"%d\")\n",
    "# print(graph_ind_array.shape)"
   ]
  },
  {
   "cell_type": "code",
   "execution_count": null,
   "metadata": {},
   "outputs": [],
   "source": [
    "# np.savetxt(r'social_node_labels.txt', np.arange(1, n_nodes+1), fmt = \"%d\")\n",
    "# print(np.arange(1, n_nodes+1).shape)"
   ]
  },
  {
   "cell_type": "code",
   "execution_count": null,
   "metadata": {},
   "outputs": [],
   "source": [
    "# np.savetxt(r'social_graph_labels.txt', np.ones(n_nodes), fmt = \"%d\")\n",
    "# print(np.ones(n_nodes).shape)"
   ]
  },
  {
   "cell_type": "code",
   "execution_count": null,
   "metadata": {},
   "outputs": [],
   "source": [
    "# adj = pd.read_csv(\"/Users/alexdavies/Documents/Year_1/Project/GRAN_social/data/DD/DD_A.txt\", delimiter = \",|\\n\")\n",
    "# adj.shape"
   ]
  },
  {
   "cell_type": "code",
   "execution_count": null,
   "metadata": {},
   "outputs": [],
   "source": [
    "# g_ind = pd.read_csv(\"/Users/alexdavies/Documents/Year_1/Project/GRAN_social/data/DD/DD_graph_indicator.txt\", delimiter = \",|\\n\")\n",
    "# g_ind.shape"
   ]
  },
  {
   "cell_type": "code",
   "execution_count": null,
   "metadata": {},
   "outputs": [],
   "source": [
    "# n_lab = pd.read_csv(\"/Users/alexdavies/Documents/Year_1/Project/GRAN_social/data/DD/DD_node_labels.txt\", delimiter = \",|\\n\")\n",
    "# n_lab.shape"
   ]
  },
  {
   "cell_type": "code",
   "execution_count": null,
   "metadata": {},
   "outputs": [],
   "source": []
  },
  {
   "cell_type": "code",
   "execution_count": null,
   "metadata": {},
   "outputs": [],
   "source": []
  }
 ],
 "metadata": {
  "kernelspec": {
   "display_name": "Python 3",
   "language": "python",
   "name": "python3"
  },
  "language_info": {
   "codemirror_mode": {
    "name": "ipython",
    "version": 3
   },
   "file_extension": ".py",
   "mimetype": "text/x-python",
   "name": "python",
   "nbconvert_exporter": "python",
   "pygments_lexer": "ipython3",
   "version": "3.8.3"
  }
 },
 "nbformat": 4,
 "nbformat_minor": 5
}
