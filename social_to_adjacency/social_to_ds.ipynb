{
 "cells": [
  {
   "cell_type": "code",
   "execution_count": 1,
   "id": "87807fbe",
   "metadata": {},
   "outputs": [
    {
     "name": "stdout",
     "output_type": "stream",
     "text": [
      "['social.txt', 'graph_example625.jpg', 'graph_example425.jpg', 'social_A.txt', 'social_graph_indicator.txt', 'graph_example525.jpg', 'graph_example450.jpg', 'graph_example400.jpg', 'graph_example350.jpg', 'graph_example700.jpg', 'graph_example175.jpg', 'sampling_test.ipynb', 'graph_example225.jpg', 'graph_example75.jpg', 'graph_example650.jpg', 'graph_example550.jpg', 'graph_example600.jpg', 'graph_example50.jpg', 'graph_example725.jpg', 'graph_example300.jpg', 'social_to_adjacency.ipynb', 'graph_example0.jpg', 'graph_example125.jpg', 'graph_example150.jpg', 'graph_example750.jpg', '.ipynb_checkpoints', 'graph_example575.jpg', 'graph_example275.jpg', 'social_node_labels.txt', 'graph_example675.jpg', 'graph_example25.jpg', 'graph_example100.jpg', 'social_graph_labels.txt', 'musae_facebook_edges.csv', 'social_to_ds.ipynb', 'graph_example475.jpg', 'large_twitch_edges.csv', 'graph_example375.jpg', 'graph_example200.jpg', 'graph_example250.jpg', 'graph_example500.jpg', '.DS_Store', 'artist_edges.csv', 'graph_example325.jpg', 'graph_example775.jpg']\n"
     ]
    }
   ],
   "source": [
    "import pandas as pd\n",
    "import numpy as np\n",
    "import networkx as nx\n",
    "import os\n",
    "from tqdm import tqdm\n",
    "import concurrent.futures\n",
    "\n",
    "print(os.listdir())\n",
    "import matplotlib.pyplot as plt"
   ]
  },
  {
   "cell_type": "code",
   "execution_count": 2,
   "id": "8ee01d2d-ca86-470e-a3da-f7253cea2fd5",
   "metadata": {},
   "outputs": [],
   "source": [
    "parent_directory = os.path.dirname(os.getcwd())\n",
    "data_directory   = os.path.join(parent_directory, \"raw_datasets/facebook_large\")"
   ]
  },
  {
   "cell_type": "code",
   "execution_count": 3,
   "id": "a8a2f43d-4f82-4a60-87a2-f48c8d0061bb",
   "metadata": {},
   "outputs": [
    {
     "name": "stdout",
     "output_type": "stream",
     "text": [
      "(171002, 2)\n"
     ]
    },
    {
     "data": {
      "text/html": [
       "<div>\n",
       "<style scoped>\n",
       "    .dataframe tbody tr th:only-of-type {\n",
       "        vertical-align: middle;\n",
       "    }\n",
       "\n",
       "    .dataframe tbody tr th {\n",
       "        vertical-align: top;\n",
       "    }\n",
       "\n",
       "    .dataframe thead th {\n",
       "        text-align: right;\n",
       "    }\n",
       "</style>\n",
       "<table border=\"1\" class=\"dataframe\">\n",
       "  <thead>\n",
       "    <tr style=\"text-align: right;\">\n",
       "      <th></th>\n",
       "      <th>id_1</th>\n",
       "      <th>id_2</th>\n",
       "    </tr>\n",
       "  </thead>\n",
       "  <tbody>\n",
       "    <tr>\n",
       "      <th>0</th>\n",
       "      <td>0</td>\n",
       "      <td>18427</td>\n",
       "    </tr>\n",
       "    <tr>\n",
       "      <th>1</th>\n",
       "      <td>1</td>\n",
       "      <td>21708</td>\n",
       "    </tr>\n",
       "    <tr>\n",
       "      <th>2</th>\n",
       "      <td>1</td>\n",
       "      <td>22208</td>\n",
       "    </tr>\n",
       "    <tr>\n",
       "      <th>3</th>\n",
       "      <td>1</td>\n",
       "      <td>22171</td>\n",
       "    </tr>\n",
       "    <tr>\n",
       "      <th>4</th>\n",
       "      <td>1</td>\n",
       "      <td>6829</td>\n",
       "    </tr>\n",
       "  </tbody>\n",
       "</table>\n",
       "</div>"
      ],
      "text/plain": [
       "   id_1   id_2\n",
       "0     0  18427\n",
       "1     1  21708\n",
       "2     1  22208\n",
       "3     1  22171\n",
       "4     1   6829"
      ]
     },
     "execution_count": 3,
     "metadata": {},
     "output_type": "execute_result"
    }
   ],
   "source": [
    "filename = \"musae_facebook_edges.csv\"\n",
    "dataset_path = os.path.join(data_directory, filename)\n",
    "\n",
    "social_data = pd.read_csv(dataset_path, delimiter = \",\", skiprows = 0)\n",
    "print(social_data.shape)\n",
    "# np.savetxt(r'social_A.txt', social_data.values, fmt='%d', delimiter=\",\\t\")\n",
    "social_data.head()"
   ]
  },
  {
   "cell_type": "code",
   "execution_count": 4,
   "id": "ac2d106b-9f42-4ffe-8dba-ac33aff2feac",
   "metadata": {},
   "outputs": [
    {
     "name": "stdout",
     "output_type": "stream",
     "text": [
      "{'company': 0, 'government': 1, 'politician': 2, 'tvshow': 3}\n"
     ]
    }
   ],
   "source": [
    "target_filename = \"musae_facebook_target.csv\"\n",
    "target_path     = os.path.join(data_directory, target_filename)\n",
    "\n",
    "target_data = pd.read_csv(target_path, delimiter = \",\", skiprows = 0)\n",
    "target_data.head()\n",
    "\n",
    "node_ids = target_data[\"id\"].tolist()\n",
    "page_types = target_data[\"page_type\"].tolist()\n",
    "\n",
    "\n",
    "unique_page_types = np.unique(page_types)\n",
    "int_labels = [i for i in range(unique_page_types.shape[0])]\n",
    "\n",
    "conv_dict = {}\n",
    "for i, page_type in enumerate(list(unique_page_types)):\n",
    "    conv_dict[page_type] = int_labels[i]\n",
    "    \n",
    "print(conv_dict)\n",
    "\n",
    "int_labels = {}\n",
    "\n",
    "for i, item in enumerate(page_types):\n",
    "    int_labels[str(i)] = conv_dict[item]"
   ]
  },
  {
   "cell_type": "code",
   "execution_count": 5,
   "id": "39299849-b64c-4ae1-a9fe-8a2be2bfce69",
   "metadata": {},
   "outputs": [
    {
     "data": {
      "text/plain": [
       "10"
      ]
     },
     "execution_count": 5,
     "metadata": {},
     "output_type": "execute_result"
    }
   ],
   "source": [
    "import json\n",
    "\n",
    "attribute_filename = \"musae_facebook_features.json\"\n",
    "attribute_path     = os.path.join(data_directory, attribute_filename)\n",
    "\n",
    "with open(attribute_path, \"r\") as f:\n",
    "    attribute_data = json.load(f)\n",
    "    \n",
    "attribute_shape = len(attribute_data[\"15\"])\n",
    "attribute_shape"
   ]
  },
  {
   "cell_type": "code",
   "execution_count": 6,
   "id": "011d8a75-3ef2-4d6d-ba43-79f8df24d475",
   "metadata": {},
   "outputs": [
    {
     "name": "stdout",
     "output_type": "stream",
     "text": [
      "['id_1', 'id_2']\n"
     ]
    }
   ],
   "source": [
    "# G = nx.Graph()\n",
    "# for i in tqdm(range(social_data.shape[0])):\n",
    "#     G.add_edge(social_data.iloc[i, 0], social_data.iloc[i,1])\n",
    "# edgelist = [(social_data.iloc[i,0], social_data.iloc[i,1]) for i in tqdm(range(social_data.shape[0]))]\n",
    "# print(edgelist)\n",
    "\n",
    "columns = list(social_data.columns)\n",
    "print(columns)\n",
    "\n",
    "G = nx.from_pandas_edgelist(social_data, columns[0], columns[1], create_using = nx.Graph)\n",
    "\n",
    "for node in G.nodes:\n",
    "    \n",
    "    G.nodes[node][\"target\"] = int_labels[str(node)]\n",
    "    # G.nodes[node][\"attribute\"] = attribute_data[str(node)]\n"
   ]
  },
  {
   "cell_type": "code",
   "execution_count": 7,
   "id": "5f0e9498-9424-410c-83aa-067b92cf14fa",
   "metadata": {},
   "outputs": [],
   "source": [
    "G = nx.convert_node_labels_to_integers(G)"
   ]
  },
  {
   "cell_type": "code",
   "execution_count": 35,
   "id": "136d89e9",
   "metadata": {},
   "outputs": [
    {
     "name": "stdout",
     "output_type": "stream",
     "text": [
      "(171002, 2)\n",
      "22470\n",
      "2000\n",
      "2000\n"
     ]
    },
    {
     "name": "stderr",
     "output_type": "stream",
     "text": [
      "  0%|                                                                                                                 | 0/1 [00:22<?, ?it/s]\n"
     ]
    },
    {
     "ename": "ValueError",
     "evalue": "Unexpected option 'c' for Overlay type across all extensions. No similar options found.",
     "output_type": "error",
     "traceback": [
      "\u001b[0;31m---------------------------------------------------------------------------\u001b[0m",
      "\u001b[0;31mValueError\u001b[0m                                Traceback (most recent call last)",
      "Input \u001b[0;32mIn [35]\u001b[0m, in \u001b[0;36m<cell line: 29>\u001b[0;34m()\u001b[0m\n\u001b[1;32m     68\u001b[0m \u001b[38;5;66;03m# (datashade(bundled, normalization='linear', width=3200, height=3200) * bundled.nodes)\u001b[39;00m\n\u001b[1;32m     69\u001b[0m \n\u001b[1;32m     70\u001b[0m \u001b[38;5;66;03m# kwargs = dict(width=800, height=800, xaxis=None, yaxis=None)\u001b[39;00m\n\u001b[1;32m     71\u001b[0m \u001b[38;5;66;03m# opts.defaults(opts.Nodes(**kwargs), opts.Graph(**kwargs))\u001b[39;00m\n\u001b[1;32m     74\u001b[0m shaded \u001b[38;5;241m=\u001b[39m (datashade(bundled, normalization\u001b[38;5;241m=\u001b[39m\u001b[38;5;124m'\u001b[39m\u001b[38;5;124mlinear\u001b[39m\u001b[38;5;124m'\u001b[39m, width\u001b[38;5;241m=\u001b[39m\u001b[38;5;241m3200\u001b[39m, height\u001b[38;5;241m=\u001b[39m\u001b[38;5;241m3200\u001b[39m) \u001b[38;5;241m*\u001b[39m bundled\u001b[38;5;241m.\u001b[39mnodes)\u001b[38;5;241m.\u001b[39mopts(fig_size \u001b[38;5;241m=\u001b[39m \u001b[38;5;241m600\u001b[39m, c \u001b[38;5;241m=\u001b[39m colors)\n\u001b[0;32m---> 75\u001b[0m fig \u001b[38;5;241m=\u001b[39m \u001b[43mhv\u001b[49m\u001b[38;5;241;43m.\u001b[39;49m\u001b[43mrender\u001b[49m\u001b[43m(\u001b[49m\u001b[43mshaded\u001b[49m\u001b[43m)\u001b[49m\u001b[38;5;241m.\u001b[39mopts(node_size \u001b[38;5;241m=\u001b[39m \u001b[38;5;241m10\u001b[39m)\n\u001b[1;32m     77\u001b[0m hv\u001b[38;5;241m.\u001b[39moutput(fig\u001b[38;5;241m=\u001b[39m\u001b[38;5;124m'\u001b[39m\u001b[38;5;124mpng\u001b[39m\u001b[38;5;124m'\u001b[39m)\n\u001b[1;32m     78\u001b[0m hv\u001b[38;5;241m.\u001b[39msave(shaded, \u001b[38;5;124m\"\u001b[39m\u001b[38;5;124mshaded.png\u001b[39m\u001b[38;5;124m\"\u001b[39m)\n",
      "File \u001b[0;32m~/anaconda3/envs/torch_geometric/lib/python3.8/site-packages/holoviews/util/__init__.py:857\u001b[0m, in \u001b[0;36mrender\u001b[0;34m(obj, backend, **kwargs)\u001b[0m\n\u001b[1;32m    855\u001b[0m \u001b[38;5;28;01mif\u001b[39;00m kwargs:\n\u001b[1;32m    856\u001b[0m     renderer_obj \u001b[38;5;241m=\u001b[39m renderer_obj\u001b[38;5;241m.\u001b[39minstance(\u001b[38;5;241m*\u001b[39m\u001b[38;5;241m*\u001b[39mkwargs)\n\u001b[0;32m--> 857\u001b[0m plot \u001b[38;5;241m=\u001b[39m \u001b[43mrenderer_obj\u001b[49m\u001b[38;5;241;43m.\u001b[39;49m\u001b[43mget_plot\u001b[49m\u001b[43m(\u001b[49m\u001b[43mobj\u001b[49m\u001b[43m)\u001b[49m\n\u001b[1;32m    858\u001b[0m \u001b[38;5;28;01mif\u001b[39;00m backend \u001b[38;5;241m==\u001b[39m \u001b[38;5;124m'\u001b[39m\u001b[38;5;124mmatplotlib\u001b[39m\u001b[38;5;124m'\u001b[39m \u001b[38;5;129;01mand\u001b[39;00m \u001b[38;5;28mlen\u001b[39m(plot) \u001b[38;5;241m>\u001b[39m \u001b[38;5;241m1\u001b[39m:\n\u001b[1;32m    859\u001b[0m     \u001b[38;5;28;01mreturn\u001b[39;00m plot\u001b[38;5;241m.\u001b[39manim(fps\u001b[38;5;241m=\u001b[39mrenderer_obj\u001b[38;5;241m.\u001b[39mfps)\n",
      "File \u001b[0;32m~/anaconda3/envs/torch_geometric/lib/python3.8/site-packages/holoviews/plotting/renderer.py:220\u001b[0m, in \u001b[0;36mRenderer.get_plot\u001b[0;34m(self_or_cls, obj, doc, renderer, comm, **kwargs)\u001b[0m\n\u001b[1;32m    217\u001b[0m     \u001b[38;5;28;01mraise\u001b[39;00m SkipRendering(msg\u001b[38;5;241m.\u001b[39mformat(dims\u001b[38;5;241m=\u001b[39mdims))\n\u001b[1;32m    219\u001b[0m \u001b[38;5;66;03m# Initialize DynamicMaps with first data item\u001b[39;00m\n\u001b[0;32m--> 220\u001b[0m \u001b[43minitialize_dynamic\u001b[49m\u001b[43m(\u001b[49m\u001b[43mobj\u001b[49m\u001b[43m)\u001b[49m\n\u001b[1;32m    222\u001b[0m \u001b[38;5;28;01mif\u001b[39;00m \u001b[38;5;129;01mnot\u001b[39;00m renderer:\n\u001b[1;32m    223\u001b[0m     renderer \u001b[38;5;241m=\u001b[39m self_or_cls\n",
      "File \u001b[0;32m~/anaconda3/envs/torch_geometric/lib/python3.8/site-packages/holoviews/plotting/util.py:254\u001b[0m, in \u001b[0;36minitialize_dynamic\u001b[0;34m(obj)\u001b[0m\n\u001b[1;32m    252\u001b[0m     \u001b[38;5;28;01mcontinue\u001b[39;00m\n\u001b[1;32m    253\u001b[0m \u001b[38;5;28;01mif\u001b[39;00m \u001b[38;5;129;01mnot\u001b[39;00m \u001b[38;5;28mlen\u001b[39m(dmap):\n\u001b[0;32m--> 254\u001b[0m     \u001b[43mdmap\u001b[49m\u001b[43m[\u001b[49m\u001b[43mdmap\u001b[49m\u001b[38;5;241;43m.\u001b[39;49m\u001b[43m_initial_key\u001b[49m\u001b[43m(\u001b[49m\u001b[43m)\u001b[49m\u001b[43m]\u001b[49m\n",
      "File \u001b[0;32m~/anaconda3/envs/torch_geometric/lib/python3.8/site-packages/holoviews/core/spaces.py:1344\u001b[0m, in \u001b[0;36mDynamicMap.__getitem__\u001b[0;34m(self, key)\u001b[0m\n\u001b[1;32m   1342\u001b[0m \u001b[38;5;66;03m# Not a cross product and nothing cached so compute element.\u001b[39;00m\n\u001b[1;32m   1343\u001b[0m \u001b[38;5;28;01mif\u001b[39;00m cache \u001b[38;5;129;01mis\u001b[39;00m \u001b[38;5;129;01mnot\u001b[39;00m \u001b[38;5;28;01mNone\u001b[39;00m: \u001b[38;5;28;01mreturn\u001b[39;00m cache\n\u001b[0;32m-> 1344\u001b[0m val \u001b[38;5;241m=\u001b[39m \u001b[38;5;28;43mself\u001b[39;49m\u001b[38;5;241;43m.\u001b[39;49m\u001b[43m_execute_callback\u001b[49m\u001b[43m(\u001b[49m\u001b[38;5;241;43m*\u001b[39;49m\u001b[43mtuple_key\u001b[49m\u001b[43m)\u001b[49m\n\u001b[1;32m   1345\u001b[0m \u001b[38;5;28;01mif\u001b[39;00m data_slice:\n\u001b[1;32m   1346\u001b[0m     val \u001b[38;5;241m=\u001b[39m \u001b[38;5;28mself\u001b[39m\u001b[38;5;241m.\u001b[39m_dataslice(val, data_slice)\n",
      "File \u001b[0;32m~/anaconda3/envs/torch_geometric/lib/python3.8/site-packages/holoviews/core/spaces.py:1111\u001b[0m, in \u001b[0;36mDynamicMap._execute_callback\u001b[0;34m(self, *args)\u001b[0m\n\u001b[1;32m   1108\u001b[0m     kwargs[\u001b[38;5;124m'\u001b[39m\u001b[38;5;124m_memoization_hash_\u001b[39m\u001b[38;5;124m'\u001b[39m] \u001b[38;5;241m=\u001b[39m hash_items\n\u001b[1;32m   1110\u001b[0m \u001b[38;5;28;01mwith\u001b[39;00m dynamicmap_memoization(\u001b[38;5;28mself\u001b[39m\u001b[38;5;241m.\u001b[39mcallback, \u001b[38;5;28mself\u001b[39m\u001b[38;5;241m.\u001b[39mstreams):\n\u001b[0;32m-> 1111\u001b[0m     retval \u001b[38;5;241m=\u001b[39m \u001b[38;5;28;43mself\u001b[39;49m\u001b[38;5;241;43m.\u001b[39;49m\u001b[43mcallback\u001b[49m\u001b[43m(\u001b[49m\u001b[38;5;241;43m*\u001b[39;49m\u001b[43margs\u001b[49m\u001b[43m,\u001b[49m\u001b[43m \u001b[49m\u001b[38;5;241;43m*\u001b[39;49m\u001b[38;5;241;43m*\u001b[39;49m\u001b[43mkwargs\u001b[49m\u001b[43m)\u001b[49m\n\u001b[1;32m   1112\u001b[0m \u001b[38;5;28;01mreturn\u001b[39;00m \u001b[38;5;28mself\u001b[39m\u001b[38;5;241m.\u001b[39m_style(retval)\n",
      "File \u001b[0;32m~/anaconda3/envs/torch_geometric/lib/python3.8/site-packages/holoviews/core/spaces.py:677\u001b[0m, in \u001b[0;36mCallable.__call__\u001b[0;34m(self, *args, **kwargs)\u001b[0m\n\u001b[1;32m    675\u001b[0m kwarg_hash \u001b[38;5;241m=\u001b[39m kwargs\u001b[38;5;241m.\u001b[39mpop(\u001b[38;5;124m'\u001b[39m\u001b[38;5;124m_memoization_hash_\u001b[39m\u001b[38;5;124m'\u001b[39m, ())\n\u001b[1;32m    676\u001b[0m (\u001b[38;5;28mself\u001b[39m\u001b[38;5;241m.\u001b[39margs, \u001b[38;5;28mself\u001b[39m\u001b[38;5;241m.\u001b[39mkwargs) \u001b[38;5;241m=\u001b[39m (args, kwargs)\n\u001b[0;32m--> 677\u001b[0m \u001b[38;5;28;01mif\u001b[39;00m \u001b[38;5;129;01mnot\u001b[39;00m args \u001b[38;5;129;01mand\u001b[39;00m \u001b[38;5;129;01mnot\u001b[39;00m kwargs \u001b[38;5;129;01mand\u001b[39;00m \u001b[38;5;129;01mnot\u001b[39;00m \u001b[38;5;28many\u001b[39m(kwarg_hash): \u001b[38;5;28;01mreturn\u001b[39;00m \u001b[38;5;28;43mself\u001b[39;49m\u001b[38;5;241;43m.\u001b[39;49m\u001b[43mcallable\u001b[49m\u001b[43m(\u001b[49m\u001b[43m)\u001b[49m\n\u001b[1;32m    678\u001b[0m inputs \u001b[38;5;241m=\u001b[39m [i \u001b[38;5;28;01mfor\u001b[39;00m i \u001b[38;5;129;01min\u001b[39;00m \u001b[38;5;28mself\u001b[39m\u001b[38;5;241m.\u001b[39minputs \u001b[38;5;28;01mif\u001b[39;00m \u001b[38;5;28misinstance\u001b[39m(i, DynamicMap)]\n\u001b[1;32m    679\u001b[0m streams \u001b[38;5;241m=\u001b[39m []\n",
      "File \u001b[0;32m~/anaconda3/envs/torch_geometric/lib/python3.8/site-packages/holoviews/util/__init__.py:1044\u001b[0m, in \u001b[0;36mDynamic._dynamic_operation.<locals>.dynamic_operation\u001b[0;34m(*key, **kwargs)\u001b[0m\n\u001b[1;32m   1042\u001b[0m \u001b[38;5;28;01mdef\u001b[39;00m \u001b[38;5;21mdynamic_operation\u001b[39m(\u001b[38;5;241m*\u001b[39mkey, \u001b[38;5;241m*\u001b[39m\u001b[38;5;241m*\u001b[39mkwargs):\n\u001b[1;32m   1043\u001b[0m     key, obj \u001b[38;5;241m=\u001b[39m resolve(key, kwargs)\n\u001b[0;32m-> 1044\u001b[0m     \u001b[38;5;28;01mreturn\u001b[39;00m \u001b[43mapply\u001b[49m\u001b[43m(\u001b[49m\u001b[43mobj\u001b[49m\u001b[43m,\u001b[49m\u001b[43m \u001b[49m\u001b[38;5;241;43m*\u001b[39;49m\u001b[43mkey\u001b[49m\u001b[43m,\u001b[49m\u001b[43m \u001b[49m\u001b[38;5;241;43m*\u001b[39;49m\u001b[38;5;241;43m*\u001b[39;49m\u001b[43mkwargs\u001b[49m\u001b[43m)\u001b[49m\n",
      "File \u001b[0;32m~/anaconda3/envs/torch_geometric/lib/python3.8/site-packages/holoviews/util/__init__.py:1036\u001b[0m, in \u001b[0;36mDynamic._dynamic_operation.<locals>.apply\u001b[0;34m(element, *key, **kwargs)\u001b[0m\n\u001b[1;32m   1034\u001b[0m \u001b[38;5;28;01mdef\u001b[39;00m \u001b[38;5;21mapply\u001b[39m(element, \u001b[38;5;241m*\u001b[39mkey, \u001b[38;5;241m*\u001b[39m\u001b[38;5;241m*\u001b[39mkwargs):\n\u001b[1;32m   1035\u001b[0m     kwargs \u001b[38;5;241m=\u001b[39m \u001b[38;5;28mdict\u001b[39m(util\u001b[38;5;241m.\u001b[39mresolve_dependent_kwargs(\u001b[38;5;28mself\u001b[39m\u001b[38;5;241m.\u001b[39mp\u001b[38;5;241m.\u001b[39mkwargs), \u001b[38;5;241m*\u001b[39m\u001b[38;5;241m*\u001b[39mkwargs)\n\u001b[0;32m-> 1036\u001b[0m     processed \u001b[38;5;241m=\u001b[39m \u001b[38;5;28;43mself\u001b[39;49m\u001b[38;5;241;43m.\u001b[39;49m\u001b[43m_process\u001b[49m\u001b[43m(\u001b[49m\u001b[43melement\u001b[49m\u001b[43m,\u001b[49m\u001b[43m \u001b[49m\u001b[43mkey\u001b[49m\u001b[43m,\u001b[49m\u001b[43m \u001b[49m\u001b[43mkwargs\u001b[49m\u001b[43m)\u001b[49m\n\u001b[1;32m   1037\u001b[0m     \u001b[38;5;28;01mif\u001b[39;00m (\u001b[38;5;28mself\u001b[39m\u001b[38;5;241m.\u001b[39mp\u001b[38;5;241m.\u001b[39mlink_dataset \u001b[38;5;129;01mand\u001b[39;00m \u001b[38;5;28misinstance\u001b[39m(element, Dataset) \u001b[38;5;129;01mand\u001b[39;00m\n\u001b[1;32m   1038\u001b[0m         \u001b[38;5;28misinstance\u001b[39m(processed, Dataset) \u001b[38;5;129;01mand\u001b[39;00m processed\u001b[38;5;241m.\u001b[39m_dataset \u001b[38;5;129;01mis\u001b[39;00m \u001b[38;5;28;01mNone\u001b[39;00m):\n\u001b[1;32m   1039\u001b[0m         processed\u001b[38;5;241m.\u001b[39m_dataset \u001b[38;5;241m=\u001b[39m element\u001b[38;5;241m.\u001b[39mdataset\n",
      "File \u001b[0;32m~/anaconda3/envs/torch_geometric/lib/python3.8/site-packages/holoviews/util/__init__.py:1020\u001b[0m, in \u001b[0;36mDynamic._process\u001b[0;34m(self, element, key, kwargs)\u001b[0m\n\u001b[1;32m   1018\u001b[0m     \u001b[38;5;28;01mreturn\u001b[39;00m \u001b[38;5;28mself\u001b[39m\u001b[38;5;241m.\u001b[39mp\u001b[38;5;241m.\u001b[39moperation\u001b[38;5;241m.\u001b[39mprocess_element(element, key, \u001b[38;5;241m*\u001b[39m\u001b[38;5;241m*\u001b[39mkwargs)\n\u001b[1;32m   1019\u001b[0m \u001b[38;5;28;01melse\u001b[39;00m:\n\u001b[0;32m-> 1020\u001b[0m     \u001b[38;5;28;01mreturn\u001b[39;00m \u001b[38;5;28;43mself\u001b[39;49m\u001b[38;5;241;43m.\u001b[39;49m\u001b[43mp\u001b[49m\u001b[38;5;241;43m.\u001b[39;49m\u001b[43moperation\u001b[49m\u001b[43m(\u001b[49m\u001b[43melement\u001b[49m\u001b[43m,\u001b[49m\u001b[43m \u001b[49m\u001b[38;5;241;43m*\u001b[39;49m\u001b[38;5;241;43m*\u001b[39;49m\u001b[43mkwargs\u001b[49m\u001b[43m)\u001b[49m\n",
      "File \u001b[0;32m~/anaconda3/envs/torch_geometric/lib/python3.8/site-packages/holoviews/core/accessors.py:625\u001b[0m, in \u001b[0;36mOpts._dynamicmap_opts.<locals>.<lambda>\u001b[0;34m(obj, **dynkwargs)\u001b[0m\n\u001b[1;32m    622\u001b[0m clone \u001b[38;5;241m=\u001b[39m (apply_groups \u001b[38;5;28;01mif\u001b[39;00m clone \u001b[38;5;129;01mis\u001b[39;00m \u001b[38;5;28;01mNone\u001b[39;00m \u001b[38;5;28;01melse\u001b[39;00m clone)\n\u001b[1;32m    624\u001b[0m obj \u001b[38;5;241m=\u001b[39m \u001b[38;5;28mself\u001b[39m\u001b[38;5;241m.\u001b[39m_obj \u001b[38;5;28;01mif\u001b[39;00m clone \u001b[38;5;28;01melse\u001b[39;00m \u001b[38;5;28mself\u001b[39m\u001b[38;5;241m.\u001b[39m_obj\u001b[38;5;241m.\u001b[39mclone()\n\u001b[0;32m--> 625\u001b[0m dmap \u001b[38;5;241m=\u001b[39m Dynamic(obj, operation\u001b[38;5;241m=\u001b[39m\u001b[38;5;28;01mlambda\u001b[39;00m obj, \u001b[38;5;241m*\u001b[39m\u001b[38;5;241m*\u001b[39mdynkwargs: \u001b[43mobj\u001b[49m\u001b[38;5;241;43m.\u001b[39;49m\u001b[43mopts\u001b[49m\u001b[43m(\u001b[49m\u001b[38;5;241;43m*\u001b[39;49m\u001b[43margs\u001b[49m\u001b[43m,\u001b[49m\u001b[43m \u001b[49m\u001b[38;5;241;43m*\u001b[39;49m\u001b[38;5;241;43m*\u001b[39;49m\u001b[43mkwargs\u001b[49m\u001b[43m)\u001b[49m,\n\u001b[1;32m    626\u001b[0m                streams\u001b[38;5;241m=\u001b[39m\u001b[38;5;28mself\u001b[39m\u001b[38;5;241m.\u001b[39m_obj\u001b[38;5;241m.\u001b[39mstreams, link_inputs\u001b[38;5;241m=\u001b[39m\u001b[38;5;28;01mTrue\u001b[39;00m)\n\u001b[1;32m    627\u001b[0m \u001b[38;5;28;01mif\u001b[39;00m \u001b[38;5;129;01mnot\u001b[39;00m clone:\n\u001b[1;32m    628\u001b[0m     \u001b[38;5;28;01mwith\u001b[39;00m util\u001b[38;5;241m.\u001b[39mdisable_constant(\u001b[38;5;28mself\u001b[39m\u001b[38;5;241m.\u001b[39m_obj):\n",
      "File \u001b[0;32m~/anaconda3/envs/torch_geometric/lib/python3.8/site-packages/holoviews/core/accessors.py:39\u001b[0m, in \u001b[0;36mAccessorPipelineMeta.pipelined.<locals>.pipelined_call\u001b[0;34m(*args, **kwargs)\u001b[0m\n\u001b[1;32m     35\u001b[0m inst \u001b[38;5;241m=\u001b[39m args[\u001b[38;5;241m0\u001b[39m]\n\u001b[1;32m     37\u001b[0m \u001b[38;5;28;01mif\u001b[39;00m \u001b[38;5;129;01mnot\u001b[39;00m \u001b[38;5;28mhasattr\u001b[39m(inst\u001b[38;5;241m.\u001b[39m_obj, \u001b[38;5;124m'\u001b[39m\u001b[38;5;124m_pipeline\u001b[39m\u001b[38;5;124m'\u001b[39m):\n\u001b[1;32m     38\u001b[0m     \u001b[38;5;66;03m# Wrapped object doesn't support the pipeline property\u001b[39;00m\n\u001b[0;32m---> 39\u001b[0m     \u001b[38;5;28;01mreturn\u001b[39;00m \u001b[38;5;21;43m__call__\u001b[39;49m\u001b[43m(\u001b[49m\u001b[38;5;241;43m*\u001b[39;49m\u001b[43margs\u001b[49m\u001b[43m,\u001b[49m\u001b[43m \u001b[49m\u001b[38;5;241;43m*\u001b[39;49m\u001b[38;5;241;43m*\u001b[39;49m\u001b[43mkwargs\u001b[49m\u001b[43m)\u001b[49m\n\u001b[1;32m     41\u001b[0m inst_pipeline \u001b[38;5;241m=\u001b[39m copy\u001b[38;5;241m.\u001b[39mcopy(inst\u001b[38;5;241m.\u001b[39m_obj\u001b[38;5;241m.\u001b[39m _pipeline)\n\u001b[1;32m     42\u001b[0m in_method \u001b[38;5;241m=\u001b[39m inst\u001b[38;5;241m.\u001b[39m_obj\u001b[38;5;241m.\u001b[39m_in_method\n",
      "File \u001b[0;32m~/anaconda3/envs/torch_geometric/lib/python3.8/site-packages/holoviews/core/accessors.py:573\u001b[0m, in \u001b[0;36mOpts.__call__\u001b[0;34m(self, *args, **kwargs)\u001b[0m\n\u001b[1;32m    567\u001b[0m         msg \u001b[38;5;241m=\u001b[39m (\u001b[38;5;124m\"\u001b[39m\u001b[38;5;124mCalling the .opts method with options broken down by options \u001b[39m\u001b[38;5;124m\"\u001b[39m\n\u001b[1;32m    568\u001b[0m                \u001b[38;5;124m\"\u001b[39m\u001b[38;5;124mgroup (i.e. separate plot, style and norm groups) is deprecated. \u001b[39m\u001b[38;5;124m\"\u001b[39m\n\u001b[1;32m    569\u001b[0m                \u001b[38;5;124m\"\u001b[39m\u001b[38;5;124mUse the .options method converting to the simplified format \u001b[39m\u001b[38;5;124m\"\u001b[39m\n\u001b[1;32m    570\u001b[0m                \u001b[38;5;124m\"\u001b[39m\u001b[38;5;124minstead or use hv.opts.apply_groups for backward compatibility.\u001b[39m\u001b[38;5;124m\"\u001b[39m)\n\u001b[1;32m    571\u001b[0m         param\u001b[38;5;241m.\u001b[39mmain\u001b[38;5;241m.\u001b[39mparam\u001b[38;5;241m.\u001b[39mwarning(msg)\n\u001b[0;32m--> 573\u001b[0m \u001b[38;5;28;01mreturn\u001b[39;00m \u001b[38;5;28;43mself\u001b[39;49m\u001b[38;5;241;43m.\u001b[39;49m\u001b[43m_dispatch_opts\u001b[49m\u001b[43m(\u001b[49m\u001b[43m \u001b[49m\u001b[38;5;241;43m*\u001b[39;49m\u001b[43margs\u001b[49m\u001b[43m,\u001b[49m\u001b[43m \u001b[49m\u001b[38;5;241;43m*\u001b[39;49m\u001b[38;5;241;43m*\u001b[39;49m\u001b[43mkwargs\u001b[49m\u001b[43m)\u001b[49m\n",
      "File \u001b[0;32m~/anaconda3/envs/torch_geometric/lib/python3.8/site-packages/holoviews/core/accessors.py:577\u001b[0m, in \u001b[0;36mOpts._dispatch_opts\u001b[0;34m(self, *args, **kwargs)\u001b[0m\n\u001b[1;32m    575\u001b[0m \u001b[38;5;28;01mdef\u001b[39;00m \u001b[38;5;21m_dispatch_opts\u001b[39m(\u001b[38;5;28mself\u001b[39m, \u001b[38;5;241m*\u001b[39margs, \u001b[38;5;241m*\u001b[39m\u001b[38;5;241m*\u001b[39mkwargs):\n\u001b[1;32m    576\u001b[0m     \u001b[38;5;28;01mif\u001b[39;00m \u001b[38;5;28mself\u001b[39m\u001b[38;5;241m.\u001b[39m_mode \u001b[38;5;129;01mis\u001b[39;00m \u001b[38;5;28;01mNone\u001b[39;00m:\n\u001b[0;32m--> 577\u001b[0m         \u001b[38;5;28;01mreturn\u001b[39;00m \u001b[38;5;28;43mself\u001b[39;49m\u001b[38;5;241;43m.\u001b[39;49m\u001b[43m_base_opts\u001b[49m\u001b[43m(\u001b[49m\u001b[38;5;241;43m*\u001b[39;49m\u001b[43margs\u001b[49m\u001b[43m,\u001b[49m\u001b[43m \u001b[49m\u001b[38;5;241;43m*\u001b[39;49m\u001b[38;5;241;43m*\u001b[39;49m\u001b[43mkwargs\u001b[49m\u001b[43m)\u001b[49m\n\u001b[1;32m    578\u001b[0m     \u001b[38;5;28;01melif\u001b[39;00m \u001b[38;5;28mself\u001b[39m\u001b[38;5;241m.\u001b[39m_mode \u001b[38;5;241m==\u001b[39m \u001b[38;5;124m'\u001b[39m\u001b[38;5;124mholomap\u001b[39m\u001b[38;5;124m'\u001b[39m:\n\u001b[1;32m    579\u001b[0m         \u001b[38;5;28;01mreturn\u001b[39;00m \u001b[38;5;28mself\u001b[39m\u001b[38;5;241m.\u001b[39m_holomap_opts(\u001b[38;5;241m*\u001b[39margs, \u001b[38;5;241m*\u001b[39m\u001b[38;5;241m*\u001b[39mkwargs)\n",
      "File \u001b[0;32m~/anaconda3/envs/torch_geometric/lib/python3.8/site-packages/holoviews/core/accessors.py:656\u001b[0m, in \u001b[0;36mOpts._base_opts\u001b[0;34m(self, *args, **kwargs)\u001b[0m\n\u001b[1;32m    653\u001b[0m     \u001b[38;5;28;01mreturn\u001b[39;00m opts\u001b[38;5;241m.\u001b[39mapply_groups(\u001b[38;5;28mself\u001b[39m\u001b[38;5;241m.\u001b[39m_obj, \u001b[38;5;241m*\u001b[39m\u001b[38;5;241m*\u001b[39m\u001b[38;5;28mdict\u001b[39m(kwargs, \u001b[38;5;241m*\u001b[39m\u001b[38;5;241m*\u001b[39mnew_kwargs))\n\u001b[1;32m    655\u001b[0m kwargs[\u001b[38;5;124m'\u001b[39m\u001b[38;5;124mclone\u001b[39m\u001b[38;5;124m'\u001b[39m] \u001b[38;5;241m=\u001b[39m \u001b[38;5;28;01mFalse\u001b[39;00m \u001b[38;5;28;01mif\u001b[39;00m clone \u001b[38;5;129;01mis\u001b[39;00m \u001b[38;5;28;01mNone\u001b[39;00m \u001b[38;5;28;01melse\u001b[39;00m clone\n\u001b[0;32m--> 656\u001b[0m \u001b[38;5;28;01mreturn\u001b[39;00m \u001b[38;5;28;43mself\u001b[39;49m\u001b[38;5;241;43m.\u001b[39;49m\u001b[43m_obj\u001b[49m\u001b[38;5;241;43m.\u001b[39;49m\u001b[43moptions\u001b[49m\u001b[43m(\u001b[49m\u001b[38;5;241;43m*\u001b[39;49m\u001b[43mnew_args\u001b[49m\u001b[43m,\u001b[49m\u001b[43m \u001b[49m\u001b[38;5;241;43m*\u001b[39;49m\u001b[38;5;241;43m*\u001b[39;49m\u001b[43mkwargs\u001b[49m\u001b[43m)\u001b[49m\n",
      "File \u001b[0;32m~/anaconda3/envs/torch_geometric/lib/python3.8/site-packages/holoviews/core/dimension.py:1302\u001b[0m, in \u001b[0;36mDimensioned.options\u001b[0;34m(self, clone, *args, **kwargs)\u001b[0m\n\u001b[1;32m   1300\u001b[0m     expanded_backends \u001b[38;5;241m=\u001b[39m opts\u001b[38;5;241m.\u001b[39m_expand_by_backend(options, backend)\n\u001b[1;32m   1301\u001b[0m \u001b[38;5;28;01melse\u001b[39;00m:\n\u001b[0;32m-> 1302\u001b[0m     expanded_backends \u001b[38;5;241m=\u001b[39m [(backend, \u001b[43mopts\u001b[49m\u001b[38;5;241;43m.\u001b[39;49m\u001b[43m_expand_options\u001b[49m\u001b[43m(\u001b[49m\u001b[43moptions\u001b[49m\u001b[43m,\u001b[49m\u001b[43m \u001b[49m\u001b[43mbackend\u001b[49m\u001b[43m)\u001b[49m)]\n\u001b[1;32m   1304\u001b[0m obj \u001b[38;5;241m=\u001b[39m \u001b[38;5;28mself\u001b[39m\n\u001b[1;32m   1305\u001b[0m \u001b[38;5;28;01mfor\u001b[39;00m backend, expanded \u001b[38;5;129;01min\u001b[39;00m expanded_backends:\n",
      "File \u001b[0;32m~/anaconda3/envs/torch_geometric/lib/python3.8/site-packages/holoviews/util/__init__.py:379\u001b[0m, in \u001b[0;36mopts._expand_options\u001b[0;34m(cls, options, backend)\u001b[0m\n\u001b[1;32m    373\u001b[0m         \u001b[38;5;28;01melse\u001b[39;00m:\n\u001b[1;32m    374\u001b[0m             valid_options \u001b[38;5;241m=\u001b[39m \u001b[38;5;28msorted\u001b[39m({\n\u001b[1;32m    375\u001b[0m                 keyword\n\u001b[1;32m    376\u001b[0m                 \u001b[38;5;28;01mfor\u001b[39;00m group_opts \u001b[38;5;129;01min\u001b[39;00m obj_options\u001b[38;5;241m.\u001b[39mgroups\u001b[38;5;241m.\u001b[39mvalues()\n\u001b[1;32m    377\u001b[0m                 \u001b[38;5;28;01mfor\u001b[39;00m keyword \u001b[38;5;129;01min\u001b[39;00m group_opts\u001b[38;5;241m.\u001b[39mallowed_keywords\n\u001b[1;32m    378\u001b[0m             })\n\u001b[0;32m--> 379\u001b[0m             \u001b[38;5;28;43mcls\u001b[39;49m\u001b[38;5;241;43m.\u001b[39;49m\u001b[43m_options_error\u001b[49m\u001b[43m(\u001b[49m\u001b[43mopt\u001b[49m\u001b[43m,\u001b[49m\u001b[43m \u001b[49m\u001b[43mobjtype\u001b[49m\u001b[43m,\u001b[49m\u001b[43m \u001b[49m\u001b[43mbackend\u001b[49m\u001b[43m,\u001b[49m\u001b[43m \u001b[49m\u001b[43mvalid_options\u001b[49m\u001b[43m)\u001b[49m\n\u001b[1;32m    380\u001b[0m \u001b[38;5;28;01mreturn\u001b[39;00m expanded\n",
      "File \u001b[0;32m~/anaconda3/envs/torch_geometric/lib/python3.8/site-packages/holoviews/util/__init__.py:427\u001b[0m, in \u001b[0;36mopts._options_error\u001b[0;34m(cls, opt, objtype, backend, valid_options)\u001b[0m\n\u001b[1;32m    422\u001b[0m     \u001b[38;5;28;01mraise\u001b[39;00m \u001b[38;5;167;01mValueError\u001b[39;00m(\u001b[38;5;124m'\u001b[39m\u001b[38;5;124mUnexpected option \u001b[39m\u001b[38;5;132;01m%r\u001b[39;00m\u001b[38;5;124m for \u001b[39m\u001b[38;5;132;01m%s\u001b[39;00m\u001b[38;5;124m type \u001b[39m\u001b[38;5;124m'\u001b[39m\n\u001b[1;32m    423\u001b[0m                      \u001b[38;5;124m'\u001b[39m\u001b[38;5;124macross all extensions. Similar options \u001b[39m\u001b[38;5;124m'\u001b[39m\n\u001b[1;32m    424\u001b[0m                      \u001b[38;5;124m'\u001b[39m\u001b[38;5;124mfor current extension (\u001b[39m\u001b[38;5;132;01m%r\u001b[39;00m\u001b[38;5;124m) are: \u001b[39m\u001b[38;5;132;01m%s\u001b[39;00m\u001b[38;5;124m.\u001b[39m\u001b[38;5;124m'\u001b[39m \u001b[38;5;241m%\u001b[39m\n\u001b[1;32m    425\u001b[0m                      (opt, objtype, current_backend, matches))\n\u001b[1;32m    426\u001b[0m \u001b[38;5;28;01melse\u001b[39;00m:\n\u001b[0;32m--> 427\u001b[0m     \u001b[38;5;28;01mraise\u001b[39;00m \u001b[38;5;167;01mValueError\u001b[39;00m(\u001b[38;5;124m'\u001b[39m\u001b[38;5;124mUnexpected option \u001b[39m\u001b[38;5;132;01m%r\u001b[39;00m\u001b[38;5;124m for \u001b[39m\u001b[38;5;132;01m%s\u001b[39;00m\u001b[38;5;124m type \u001b[39m\u001b[38;5;124m'\u001b[39m\n\u001b[1;32m    428\u001b[0m                      \u001b[38;5;124m'\u001b[39m\u001b[38;5;124macross all extensions. No similar options \u001b[39m\u001b[38;5;124m'\u001b[39m\n\u001b[1;32m    429\u001b[0m                      \u001b[38;5;124m'\u001b[39m\u001b[38;5;124mfound.\u001b[39m\u001b[38;5;124m'\u001b[39m \u001b[38;5;241m%\u001b[39m (opt, objtype))\n",
      "\u001b[0;31mValueError\u001b[0m: Unexpected option 'c' for Overlay type across all extensions. No similar options found."
     ]
    }
   ],
   "source": [
    "from littleballoffur import ForestFireSampler, MetropolisHastingsRandomWalkSampler, RandomWalkSampler, DiffusionSampler\n",
    "import holoviews as hv\n",
    "from holoviews import opts\n",
    "from holoviews.operation.datashader import datashade, bundle_graph\n",
    "from bokeh.plotting import show\n",
    "\n",
    "print(social_data.shape)\n",
    "n_nodes = np.unique(social_data.values).shape[0]\n",
    "print(n_nodes)\n",
    "n_graphs = 1\n",
    "\n",
    "graph_ind_array = np.zeros(n_nodes)\n",
    "min_per_graph = 1999\n",
    "n_per_graph = 2000#int(n_nodes / n_graphs)\n",
    "\n",
    "print(n_per_graph)\n",
    "\n",
    "total_n = n_per_graph * n_graphs\n",
    "\n",
    "\n",
    "\n",
    "print(total_n)\n",
    "graph_ind_array = np.zeros(total_n)\n",
    "\n",
    "\n",
    "#number_of_nodes = int(0.5*graph.number_of_nodes())\n",
    "\n",
    "\n",
    "for i in tqdm(range(n_graphs)):\n",
    "    \n",
    "    offset_index = i * n_per_graph\n",
    "    sampler = MetropolisHastingsRandomWalkSampler(number_of_nodes = np.random.randint(min_per_graph, n_per_graph), #n_per_graph,#\n",
    "                               seed = np.random.randint(1, 1e6))\n",
    "    new_graph = sampler.sample(G)\n",
    "    \n",
    "    # print(len(list(new_graph.nodes())))\n",
    "    \n",
    "    new_graph = nx.convert_node_labels_to_integers(new_graph, first_label=offset_index)\n",
    "    \n",
    "    graph_ind_array[offset_index:(i+1) * n_per_graph] = i+1\n",
    "    \n",
    "    nodes = list(new_graph.nodes())\n",
    "    \n",
    "    node_labels_g = [new_graph.nodes[n][\"target\"] for n in new_graph.nodes]\n",
    "    \n",
    "    features = np.zeros((len(nodes), ))\n",
    "    \n",
    "    if i ==0:\n",
    "        graph_adj = np.array(new_graph.edges())\n",
    "        graph_ind_array = np.array(np.full(len(nodes), i+1))\n",
    "        node_labels = np.array(node_labels_g)\n",
    "        \n",
    "    else:\n",
    "        graph_adj = np.append(graph_adj, np.array(new_graph.edges()), axis = 0)\n",
    "        graph_ind_array = np.append(graph_ind_array, np.array(np.full(len(nodes), i+1)))\n",
    "        node_labels = np.append(node_labels, node_labels_g)\n",
    "\n",
    "\n",
    "\n",
    "    colors = []\n",
    "\n",
    "    for g in new_graph.nodes:\n",
    "        colors.append(new_graph.nodes[g][\"target\"])\n",
    "        \n",
    "    hvg = hv.Graph.from_networkx(new_graph, nx.nx_pydot.graphviz_layout, prog=\"sfdp\")\n",
    "    bundled = bundle_graph(hvg)\n",
    "    \n",
    "    # (datashade(bundled, normalization='linear', width=3200, height=3200) * bundled.nodes)\n",
    "    \n",
    "    # kwargs = dict(width=800, height=800, xaxis=None, yaxis=None)\n",
    "    # opts.defaults(opts.Nodes(**kwargs), opts.Graph(**kwargs))\n",
    "\n",
    "    \n",
    "    shaded = (datashade(bundled, normalization='linear', width=3200, height=3200) * bundled.nodes).opts(fig_size = 600, c = colors)\n",
    "    fig = hv.render(shaded).opts(node_size = 10)\n",
    "    \n",
    "    hv.output(fig='png')\n",
    "    hv.save(shaded, \"shaded.png\")\n",
    "    \n",
    "    # .opts(\n",
    "    # opts.Nodes(color='circle', size=10, width=1000, cmap=colors, legend_position='right'))\n",
    "\n",
    "\n",
    "print(graph_adj.shape)\n",
    "print(graph_ind_array.shape)\n",
    "\n",
    "total_n = graph_ind_array.shape[0]\n",
    "# from IPython.display import Image\n",
    "# Image(fig, width = 800)\n",
    "\n",
    "\n",
    "# hv.output(fig = bundled)"
   ]
  },
  {
   "cell_type": "code",
   "execution_count": null,
   "id": "c2b0ca8e",
   "metadata": {},
   "outputs": [],
   "source": [
    "data_dir =        \"/home/alex/Projects/GRAN_social/data/FACEBOOK_LARGE/\"\n",
    "\n",
    "# for file in os.listdir(data_dir):\n",
    "#     print(file)\n",
    "#     if \"DUMMY\" in file:\n",
    "#         shutil.rmtree(f\"{data_dir}{file}\")\n",
    "\n",
    "np.savetxt(f'{data_dir}FACEBOOK_LARGE_A.txt', graph_adj, fmt='%d', delimiter=\",\\t\")\n",
    "np.savetxt(f'{data_dir}FACEBOOK_LARGE_graph_indicator.txt',graph_ind_array, fmt=\"%d\")\n",
    "\n",
    "np.savetxt(f'{data_dir}FACEBOOK_LARGE_node_labels.txt', node_labels, fmt = \"%d\")\n",
    "print(node_labels.shape)\n",
    "\n",
    "np.savetxt(f'{data_dir}FACEBOOK_LARGE_node_attributes.txt', node_labels, fmt = \"%d\")\n",
    "print(node_labels.shape)\n",
    "\n",
    "np.savetxt(f'{data_dir}FACEBOOK_LARGE_graph_labels.txt', np.ones(total_n), fmt = \"%d\")\n",
    "print(np.ones(total_n).shape)\n",
    "\n",
    "\n",
    "        \n",
    "# np.savetxt(r'social_A.txt', graph_adj, fmt='%d', delimiter=\",\\t\")\n",
    "# np.savetxt(r'social_graph_indicator.txt',graph_ind_array, fmt=\"%d\")\n",
    "\n",
    "# np.savetxt(r'social_node_labels.txt', np.arange(1, total_n+1), fmt = \"%d\")\n",
    "# print(np.arange(1, total_n+1).shape)\n",
    "\n",
    "# np.savetxt(r'social_graph_labels.txt', np.ones(total_n), fmt = \"%d\")\n",
    "# print(np.ones(total_n).shape)"
   ]
  },
  {
   "cell_type": "code",
   "execution_count": null,
   "id": "fcb329f5",
   "metadata": {},
   "outputs": [],
   "source": [
    "# print(social_data.shape)\n",
    "# n_nodes = np.unique(social_data.values).shape[0]\n",
    "# print(n_nodes)\n",
    "# n_graphs = 100\n",
    "\n",
    "# graph_ind_array = np.zeros(n_nodes)\n",
    "# n_per_graph = int(n_nodes / n_graphs)\n",
    "\n",
    "# print(n_per_graph)\n",
    "\n",
    "# G_ids = []\n",
    "\n",
    "# for i in range(n_graphs):\n",
    "    \n",
    "#     G2 = nx.Graph()\n",
    "\n",
    "#     for node in G.nodes():\n",
    "        \n",
    "#         neighbours = list(G.neighbors(node))\n"
   ]
  },
  {
   "cell_type": "code",
   "execution_count": null,
   "id": "7cddd49c",
   "metadata": {},
   "outputs": [],
   "source": [
    "\n",
    "\n",
    "# # for i in range(n_graphs):\n",
    "    \n",
    "# #     graph_ind_array[i*n_per_graph : (i+1)*n_per_graph] = i+1\n",
    "    \n",
    "# #     if i == n_graphs - 1:\n",
    "# #         graph_ind_array[(i+1)*n_per_graph:] = i+1\n",
    "\n",
    "# np.savetxt(r'social_graph_indicator.txt',graph_ind_array, fmt=\"%d\")\n",
    "# print(graph_ind_array.shape)"
   ]
  },
  {
   "cell_type": "code",
   "execution_count": null,
   "id": "9749512c",
   "metadata": {},
   "outputs": [],
   "source": [
    "# np.savetxt(r'social_node_labels.txt', np.arange(1, n_nodes+1), fmt = \"%d\")\n",
    "# print(np.arange(1, n_nodes+1).shape)"
   ]
  },
  {
   "cell_type": "code",
   "execution_count": null,
   "id": "5f2f274f",
   "metadata": {},
   "outputs": [],
   "source": [
    "# np.savetxt(r'social_graph_labels.txt', np.ones(n_nodes), fmt = \"%d\")\n",
    "# print(np.ones(n_nodes).shape)"
   ]
  },
  {
   "cell_type": "code",
   "execution_count": null,
   "id": "49b6e0ca",
   "metadata": {},
   "outputs": [],
   "source": [
    "# adj = pd.read_csv(\"/Users/alexdavies/Documents/Year_1/Project/GRAN_social/data/DD/DD_A.txt\", delimiter = \",|\\n\")\n",
    "# adj.shape"
   ]
  },
  {
   "cell_type": "code",
   "execution_count": null,
   "id": "acad2638",
   "metadata": {},
   "outputs": [],
   "source": [
    "# g_ind = pd.read_csv(\"/Users/alexdavies/Documents/Year_1/Project/GRAN_social/data/DD/DD_graph_indicator.txt\", delimiter = \",|\\n\")\n",
    "# g_ind.shape"
   ]
  },
  {
   "cell_type": "code",
   "execution_count": null,
   "id": "efc18982",
   "metadata": {},
   "outputs": [],
   "source": [
    "# n_lab = pd.read_csv(\"/Users/alexdavies/Documents/Year_1/Project/GRAN_social/data/DD/DD_node_labels.txt\", delimiter = \",|\\n\")\n",
    "# n_lab.shape"
   ]
  },
  {
   "cell_type": "code",
   "execution_count": null,
   "id": "45c3ffeb",
   "metadata": {},
   "outputs": [],
   "source": []
  },
  {
   "cell_type": "code",
   "execution_count": null,
   "id": "86f69066",
   "metadata": {},
   "outputs": [],
   "source": []
  }
 ],
 "metadata": {
  "kernelspec": {
   "display_name": "Python 3 (ipykernel)",
   "language": "python",
   "name": "python3"
  },
  "language_info": {
   "codemirror_mode": {
    "name": "ipython",
    "version": 3
   },
   "file_extension": ".py",
   "mimetype": "text/x-python",
   "name": "python",
   "nbconvert_exporter": "python",
   "pygments_lexer": "ipython3",
   "version": "3.10.4"
  }
 },
 "nbformat": 4,
 "nbformat_minor": 5
}
